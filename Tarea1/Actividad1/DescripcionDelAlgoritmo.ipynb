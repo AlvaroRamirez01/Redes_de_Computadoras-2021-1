{
 "cells": [
  {
   "cell_type": "markdown",
   "metadata": {},
   "source": [
    "### Descripcion del algoritmo del domino"
   ]
  },
  {
   "cell_type": "markdown",
   "metadata": {},
   "source": [
    "## Parte 1: Creacion de las fichas\n",
    "\n",
    "* Creamos la clase ficha la cual se encargara el modelo de las fichas de domino.\n",
    "+ La clase ficha llevara 3 metodos importantes:\n",
    "    * equals: se encargara de comparar dos fichas, si son iguales devuelve True, si no devuelve False.  \n",
    "    * toString: se encargara de devolver una cadena con la informacion de la ficha.\n",
    "    * giraFicha: se encargara de girar la ficha, ya sea para la izquierda o la derecha dependiendo de la orden."
   ]
  },
  {
   "cell_type": "markdown",
   "metadata": {},
   "source": [
    "## Parte 2: Creacion del juego\n",
    "* Creamos 4 listas:\n",
    "  * Una lista para las fichas del jugador 1.\n",
    "  * Una lista para las fichas de la computadora.\n",
    "  * Una lista para las fichas de las cuales podremos comer.\n",
    "  * Una lista para modelar el tablero de domino, dado que el tablero se inicializa con la ficha del [6,6] esta lista sera de longitud 1.\n",
    "* Hacemos una conexion con el cliente\n",
    "* Una vez establecida la conexion, con el metodo repartirFichas se reparten las fichas al jugador y la computadora.\n",
    "* Se manda una representacion en cadena de las fichas al cliente para que elija la ficha que desea colocar o si desea comer o rendirse.\n",
    "  * En caso de que quiera poner una ficha, se manda el indice de la ficha que desea poner.\n",
    "  * En caso de que quiera comer se agrega una ficha aleatoria de las fichas que estan para comer.\n",
    "  * En caso de que quiera terminar el juego este le manda una cadena al cliente diciendo que termino el juego y se cierra el socket.\n",
    "* Ahora es el turno del Servidor:\n",
    "  * Primero revisa la cabeza y la cola de la lista de una manera peculiar:\n",
    "    * Con el metodo getFirst() obtenemos la cabeza de la lista y de la cabeza revisamos la cara 1 de la ficha.\n",
    "    * Con el metodo getLast() obtenemos la cola de la lista y de la cola revisamos la cara 2 de la ficha.\n",
    "    * Ahora checamos en la lista de la computadora si existe una ficha que tenga la misma cara 1 o cara 2 que las fichas que sacamos con los metodos anteriores.\n",
    "      * Si no se tiene una ficha que cumpla con esta condicion, entonces se procede a comer una ficha de la lista de fichas para comer, despues se avisa al cliente que es su turno de jugar.\n",
    "      * En caos de que si se tenga la ficha, esta se agrega a donde corresponde checando que la cara 1 y cara 2 sean iguales de numero para agregarla o al reves en otro caso, sino se debera usar el metodo giraFicha para ponerlo adecuadamente.\n",
    "    * Ahora le toca al cliente jugar y asi seguimos hasta que el cliente decida rendirse o que la lista de fichas para comer este vacia.\n"
   ]
  }
 ],
 "metadata": {
  "interpreter": {
   "hash": "916dbcbb3f70747c44a77c7bcd40155683ae19c65e1c03b4aa3499c5328201f1"
  },
  "kernelspec": {
   "display_name": "Python 3.8.10 64-bit",
   "name": "python3"
  },
  "language_info": {
   "name": "python",
   "version": "3.8.10"
  },
  "orig_nbformat": 4
 },
 "nbformat": 4,
 "nbformat_minor": 2
}
