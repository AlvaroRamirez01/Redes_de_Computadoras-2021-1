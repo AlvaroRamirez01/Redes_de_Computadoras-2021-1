{
 "cells": [
  {
   "cell_type": "markdown",
   "metadata": {},
   "source": [
    "### Descripcion del algoritmo del domino"
   ]
  },
  {
   "cell_type": "markdown",
   "metadata": {},
   "source": [
    "## Parte 1: Creacion de las fichas\n",
    "\n",
    "* Creamos la clase ficha la cual se encargara el modelo de las fichas de domino.\n",
    "+ La clase ficha llevara 3 metodos importantes:\n",
    "    * equals: se encargara de comparar dos fichas, si son iguales devuelve True, si no devuelve False.  \n",
    "    * toString: se encargara de devolver una cadena con la informacion de la ficha.\n",
    "    * giraFicha: se encargara de girar la ficha, ya sea para la izquierda o la derecha dependiendo de la orden."
   ]
  },
  {
   "cell_type": "markdown",
   "metadata": {},
   "source": [
    "## Parte 2: Creacion del juego\n",
    "* Creamos 4 listas:\n",
    "  + Una lista para las fichas del jugador 1.\n",
    "  + Una lista para las fichas de la computadora.\n",
    "  + Una lista para las fichas de las cuales podremos comer.\n",
    "  + Una lista para modelar el tablero de domino, dado que el tablero se inicializa \n",
    "    con la ficha del [6,6] esta lista sera de longitud 1.\n",
    "* "
   ]
  }
 ],
 "metadata": {
  "interpreter": {
   "hash": "916dbcbb3f70747c44a77c7bcd40155683ae19c65e1c03b4aa3499c5328201f1"
  },
  "kernelspec": {
   "display_name": "Python 3.8.10 64-bit",
   "name": "python3"
  },
  "language_info": {
   "name": "python",
   "version": "3.8.10"
  },
  "orig_nbformat": 4
 },
 "nbformat": 4,
 "nbformat_minor": 2
}
